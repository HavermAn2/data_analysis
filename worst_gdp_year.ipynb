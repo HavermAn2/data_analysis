{
 "cells": [
  {
   "cell_type": "code",
   "execution_count": 2,
   "id": "5432c170",
   "metadata": {},
   "outputs": [
    {
     "name": "stdout",
     "output_type": "stream",
     "text": [
      "0        Albania → 2005_gdp\n",
      "1        Algeria → 2005_gdp\n",
      "2         Angola → 2018_gdp\n",
      "3      Argentina → 2020_gdp\n",
      "4        Armenia → 2019_gdp\n",
      "               ...         \n",
      "136    Venezuela → 2018_gdp\n",
      "137      Vietnam → 2006_gdp\n",
      "138        Yemen → 2018_gdp\n",
      "139       Zambia → 2017_gdp\n",
      "140     Zimbabwe → 2019_gdp\n",
      "Length: 141, dtype: object\n"
     ]
    }
   ],
   "source": [
    "# Worst gdp year for each country\n",
    "import pandas as pd\n",
    "import numpy\n",
    "\n",
    "gdp = pd.read_csv(\"./data/clean_gdp.csv\")\n",
    "gdp_copy = gdp.copy()\n",
    "gdp_copy = gdp_copy.replace({0: numpy.nan})\n",
    "country_names = gdp_copy[\"country\"]\n",
    "gdp_years = gdp_copy.loc[:, gdp_copy.columns.str.endswith(\"_gdp\")]\n",
    "min_gdp_year_per_country = gdp_years.idxmin(axis=1)\n",
    "worst_years = min_gdp_year_per_country\n",
    "result = country_names + \" → \" + worst_years\n",
    "print(result)"
   ]
  }
 ],
 "metadata": {
  "kernelspec": {
   "display_name": "Python 3",
   "language": "python",
   "name": "python3"
  },
  "language_info": {
   "codemirror_mode": {
    "name": "ipython",
    "version": 3
   },
   "file_extension": ".py",
   "mimetype": "text/x-python",
   "name": "python",
   "nbconvert_exporter": "python",
   "pygments_lexer": "ipython3",
   "version": "3.13.3"
  }
 },
 "nbformat": 4,
 "nbformat_minor": 5
}
