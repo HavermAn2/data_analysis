{
 "cells": [
  {
   "cell_type": "code",
   "execution_count": 1,
   "id": "54eadbcf",
   "metadata": {},
   "outputs": [
    {
     "name": "stdout",
     "output_type": "stream",
     "text": [
      "0        Albania → 2019_gdp\n",
      "1        Algeria → 2013_gdp\n",
      "2         Angola → 2014_gdp\n",
      "3      Argentina → 2013_gdp\n",
      "4        Armenia → 2006_gdp\n",
      "               ...         \n",
      "136    Venezuela → 2007_gdp\n",
      "137      Vietnam → 2022_gdp\n",
      "138        Yemen → 2008_gdp\n",
      "139       Zambia → 2009_gdp\n",
      "140     Zimbabwe → 2005_gdp\n",
      "Length: 141, dtype: object\n"
     ]
    }
   ],
   "source": [
    "# best gdp year for each country\n",
    "import pandas as pd\n",
    "\n",
    "gdp = pd.read_csv(\"./data/clean_gdp.csv\")\n",
    "gdp_copy = gdp.copy()\n",
    "country_names = gdp_copy[\"country\"]\n",
    "gdp_years = gdp_copy.loc[:, gdp_copy.columns.str.endswith(\"_gdp\")]\n",
    "max_gdp_year_per_country = gdp_years.idxmax(axis=1)\n",
    "best_years = max_gdp_year_per_country\n",
    "result = country_names + \" → \" + best_years\n",
    "print(result)"
   ]
  }
 ],
 "metadata": {
  "kernelspec": {
   "display_name": "Python 3",
   "language": "python",
   "name": "python3"
  },
  "language_info": {
   "codemirror_mode": {
    "name": "ipython",
    "version": 3
   },
   "file_extension": ".py",
   "mimetype": "text/x-python",
   "name": "python",
   "nbconvert_exporter": "python",
   "pygments_lexer": "ipython3",
   "version": "3.13.3"
  }
 },
 "nbformat": 4,
 "nbformat_minor": 5
}
